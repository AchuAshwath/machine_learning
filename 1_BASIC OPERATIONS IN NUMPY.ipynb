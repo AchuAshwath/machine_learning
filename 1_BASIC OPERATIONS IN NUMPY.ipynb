{
 "cells": [
  {
   "cell_type": "code",
   "execution_count": 3,
   "metadata": {},
   "outputs": [
    {
     "name": "stdout",
     "output_type": "stream",
     "text": [
      "3x3 matrix \n",
      " [[0 1 2]\n",
      " [3 4 5]\n",
      " [6 7 8]]\n",
      "odd and even numbers\n",
      "  [[1]\n",
      " [7]]\n",
      "Multiplying\n",
      " [[ 0  3  6]\n",
      " [ 9 12 15]\n",
      " [18 21 24]]\n",
      "Adding with identity matrix\n",
      " [[ 1  3  6]\n",
      " [ 9 13 15]\n",
      " [18 21 25]]\n"
     ]
    }
   ],
   "source": [
    "import numpy as np\n",
    "\n",
    "a =    np.arange(0,9).reshape(3,3)\n",
    "print(\"3x3 matrix \\n\",a)\n",
    "b = a[::2,1::2]\n",
    "print(\"odd and even numbers\\n \",b)\n",
    "c = 3*a\n",
    "print(\"Multiplying\\n\",c)\n",
    "d = np.identity((3),dtype = int)\n",
    "print(\"Adding with identity matrix\\n\",c+d)"
   ]
  },
  {
   "cell_type": "code",
   "execution_count": null,
   "metadata": {},
   "outputs": [],
   "source": []
  }
 ],
 "metadata": {
  "interpreter": {
   "hash": "74899f9e3fc7a9d7f05ceb6f9a1166e20821fff50e4f13e6907f3c82af5b1ce8"
  },
  "kernelspec": {
   "display_name": "Python 3.10.4 ('env': venv)",
   "language": "python",
   "name": "python3"
  },
  "language_info": {
   "codemirror_mode": {
    "name": "ipython",
    "version": 3
   },
   "file_extension": ".py",
   "mimetype": "text/x-python",
   "name": "python",
   "nbconvert_exporter": "python",
   "pygments_lexer": "ipython3",
   "version": "3.10.4"
  },
  "orig_nbformat": 4
 },
 "nbformat": 4,
 "nbformat_minor": 2
}
